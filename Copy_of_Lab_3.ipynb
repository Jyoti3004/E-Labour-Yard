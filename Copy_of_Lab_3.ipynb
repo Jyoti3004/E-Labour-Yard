{
  "nbformat": 4,
  "nbformat_minor": 0,
  "metadata": {
    "colab": {
      "provenance": [],
      "authorship_tag": "ABX9TyN0UUjhML/t8vKC5LFHZG+Q",
      "include_colab_link": true
    },
    "kernelspec": {
      "name": "python3",
      "display_name": "Python 3"
    },
    "language_info": {
      "name": "python"
    }
  },
  "cells": [
    {
      "cell_type": "markdown",
      "metadata": {
        "id": "view-in-github",
        "colab_type": "text"
      },
      "source": [
        "<a href=\"https://colab.research.google.com/github/Jyoti3004/E-Labour-Yard/blob/main/Copy_of_Lab_3.ipynb\" target=\"_parent\"><img src=\"https://colab.research.google.com/assets/colab-badge.svg\" alt=\"Open In Colab\"/></a>"
      ]
    },
    {
      "cell_type": "code",
      "source": [
        "num1 = int(input(\"Enter the first integer: \"))\n",
        "num2 = int(input(\"Enter the second integer: \"))\n",
        "\n",
        "if num1 > num2:\n",
        "    print(\"The largest number is:\", num1)\n",
        "else:\n",
        "    print(\"The largest number is:\", num2)"
      ],
      "metadata": {
        "colab": {
          "base_uri": "https://localhost:8080/"
        },
        "id": "dBnBh8XunguI",
        "outputId": "7a7dac96-7dbe-470b-e4cb-ac9ac70ac611"
      },
      "execution_count": null,
      "outputs": [
        {
          "output_type": "stream",
          "name": "stdout",
          "text": [
            "Enter the first integer: 58\n",
            "Enter the second integer: 98\n",
            "The largest number is: 98\n"
          ]
        }
      ]
    },
    {
      "cell_type": "code",
      "source": [
        "number = float(input(\"Enter a number: \"))\n",
        "\n",
        "if number > 0:\n",
        "    print(\"Positive\")\n",
        "elif number < 0:\n",
        "    print(\"Negative\")\n",
        "else:\n",
        "    print(\"Zero\")"
      ],
      "metadata": {
        "colab": {
          "base_uri": "https://localhost:8080/"
        },
        "id": "dr2T5Ii-nWur",
        "outputId": "a0a3f18d-4163-4bab-8225-e0ff92dddbbe"
      },
      "execution_count": null,
      "outputs": [
        {
          "output_type": "stream",
          "name": "stdout",
          "text": [
            "Enter a number: -56\n",
            "Negative\n"
          ]
        }
      ]
    },
    {
      "cell_type": "code",
      "source": [
        "age = int(input(\"Enter your age: \"))\n",
        "\n",
        "if age >= 0 and age <= 12:\n",
        "    print(\"You are a Child\")\n",
        "elif age >= 13 and age <= 19:\n",
        "    print(\"You are a Teenager\")\n",
        "elif age >= 20 and age <= 59:\n",
        "    print(\"You are an Adult\")\n",
        "else:\n",
        "    print(\"You are a Senior Citizen\")"
      ],
      "metadata": {
        "colab": {
          "base_uri": "https://localhost:8080/"
        },
        "id": "EsD9yknWmGRr",
        "outputId": "60405d81-dc4e-4361-9b4b-2057b18eba8e"
      },
      "execution_count": null,
      "outputs": [
        {
          "output_type": "stream",
          "name": "stdout",
          "text": [
            "Enter your age: 18\n",
            "You are a Teenager\n"
          ]
        }
      ]
    },
    {
      "cell_type": "code",
      "source": [
        "num = int(input(\"Enter a number from 1 to 7: \"))\n",
        "\n",
        "if num == 1:\n",
        "    print(\"Sunday\")\n",
        "elif num == 2:\n",
        "    print(\"Monday\")\n",
        "elif num == 3:\n",
        "    print(\"Tuesday\")\n",
        "elif num == 4:\n",
        "    print(\"Wednesday\")\n",
        "elif num == 5:\n",
        "    print(\"Thursday\")\n",
        "elif num == 6:\n",
        "    print(\"Friday\")\n",
        "elif num == 7:\n",
        "    print(\"Saturday\")\n",
        "else:\n",
        "    print(\"Invalid input. Please enter a number from 1 to 7.\")"
      ],
      "metadata": {
        "colab": {
          "base_uri": "https://localhost:8080/"
        },
        "id": "24pdaj6PliYB",
        "outputId": "4e8a79c0-e2fa-4f63-baa0-5e87be909d98"
      },
      "execution_count": null,
      "outputs": [
        {
          "output_type": "stream",
          "name": "stdout",
          "text": [
            "Enter a number from 1 to 7: 7\n",
            "Saturday\n"
          ]
        }
      ]
    },
    {
      "cell_type": "code",
      "execution_count": null,
      "metadata": {
        "colab": {
          "base_uri": "https://localhost:8080/"
        },
        "id": "e_OymSO7gLdW",
        "outputId": "4a723bbc-803b-4852-de6a-21b822bce4c2"
      },
      "outputs": [
        {
          "output_type": "stream",
          "name": "stdout",
          "text": [
            "enter a 1 sub marks : 58\n",
            "enter a 2 sub marks : 98\n",
            "enter a 3 sub marks : 78\n",
            "78.0\n",
            "C Grade\n"
          ]
        }
      ],
      "source": [
        "sub1 = input(\"enter a 1 sub marks : \")\n",
        "sub2 = input(\"enter a 2 sub marks : \")\n",
        "sub3 = input(\"enter a 3 sub marks : \")\n",
        "sum = (int(sub1) + int(sub2) + int(sub3))/3\n",
        "print(sum)\n",
        "if sum >= 90:\n",
        "    print(\"A Grade\")\n",
        "elif sum >= 80:\n",
        "    print(\"B Grade\")\n",
        "elif sum >= 70:\n",
        "    print(\"C Grade\")\n",
        "elif sum >= 60:\n",
        "    print(\"D Grade\")\n",
        "elif sum >= 40:\n",
        "    print(\"E Grade\")\n",
        "else:\n",
        "    print(\"fail\")"
      ]
    },
    {
      "cell_type": "code",
      "source": [
        "\n",
        "a = float(input(\"Enter the coefficient a: \"))\n",
        "b = float(input(\"Enter the coefficient b: \"))\n",
        "c = float(input(\"Enter the coefficient c: \"))\n",
        "\n",
        "discriminant = b**2 - 4 * a * c\n",
        "\n",
        "if discriminant < 0:\n",
        "    print(\"The equation has no real roots.\")7\n",
        "if discriminant == 0:\n",
        "    root = -b / (2 * a)\n",
        "    print(\"The equation has two equal real roots:\", root)\n",
        "elif discriminant > 0:\n",
        "    root1 = (-b + discriminant**0.5) / (2 * a)\n",
        "    root2 = (-b - discriminant**0.5) / (2 * a)\n",
        "    print(\"The equation has two distinct real roots:\", root1, \"and\", root2)\n",
        "else:\n",
        "    print(\"The equation has two complex roots.\")"
      ],
      "metadata": {
        "colab": {
          "base_uri": "https://localhost:8080/"
        },
        "id": "JF7iON3Uigin",
        "outputId": "0896ab30-a98b-4f29-f180-c084bbd95747"
      },
      "execution_count": null,
      "outputs": [
        {
          "output_type": "stream",
          "name": "stdout",
          "text": [
            "Enter the coefficient a: 56\n",
            "Enter the coefficient b: 67\n",
            "Enter the coefficient c: 8\n",
            "The equation has two distinct real roots: -0.13452992240718625 and -1.061898649021385\n"
          ]
        }
      ]
    },
    {
      "cell_type": "code",
      "source": [
        "\n",
        "num1 = float(input(\"Enter the first number: \"))\n",
        "num2 = float(input(\"Enter the second number: \"))\n",
        "num3 = float(input(\"Enter the third number: \"))\n",
        "\n",
        "\n",
        "numbers = [num1, num2, num3]\n",
        "\n",
        "\n",
        "numbers.sort()\n",
        "\n",
        "print(\"The sorted numbers are:\", numbers)"
      ],
      "metadata": {
        "colab": {
          "base_uri": "https://localhost:8080/"
        },
        "id": "G81tGEgHjfgz",
        "outputId": "c9a6246f-3219-452c-e860-6a843d1b04ea"
      },
      "execution_count": null,
      "outputs": [
        {
          "output_type": "stream",
          "name": "stdout",
          "text": [
            "Enter the first number: 5\n",
            "Enter the second number: 4\n",
            "Enter the third number: 2\n",
            "The sorted numbers are: [2.0, 4.0, 5.0]\n"
          ]
        }
      ]
    },
    {
      "cell_type": "code",
      "source": [
        "num1 = int(input(\"Enter the first integer: \"))\n",
        "num2 = int(input(\"Enter the second integer: \"))\n",
        "num3 = int(input(\"Enter the third integer: \"))\n",
        "\n",
        "largest = num1\n",
        "\n",
        "if num2 > largest:\n",
        "    largest = num2\n",
        "\n",
        "if num3 > largest:\n",
        "    largest = num3\n",
        "\n",
        "print(\"The largest number is:\", largest)"
      ],
      "metadata": {
        "colab": {
          "base_uri": "https://localhost:8080/"
        },
        "id": "UU3iTtrhkNZ1",
        "outputId": "d64b7a11-2415-46f4-a6fe-de5b1d62c74d"
      },
      "execution_count": null,
      "outputs": [
        {
          "output_type": "stream",
          "name": "stdout",
          "text": [
            "Enter the first integer: 101\n",
            "Enter the second integer: 68\n",
            "Enter the third integer: 988\n",
            "The largest number is: 988\n"
          ]
        }
      ]
    },
    {
      "cell_type": "code",
      "source": [
        "char = input(\"Enter a character: \")\n",
        "\n",
        "if char.lower() in ('a', 'e', 'i', 'o', 'u'):\n",
        "    print(char, \"is a vowel.\")\n",
        "else:\n",
        "    print(char, \"is a consonant.\")"
      ],
      "metadata": {
        "colab": {
          "base_uri": "https://localhost:8080/"
        },
        "id": "78ZQWEzVks5T",
        "outputId": "da70374d-1e14-4f7f-bcc1-b7ed0d817836"
      },
      "execution_count": null,
      "outputs": [
        {
          "output_type": "stream",
          "name": "stdout",
          "text": [
            "Enter a character: j\n",
            "j is a consonant.\n"
          ]
        }
      ]
    },
    {
      "cell_type": "code",
      "source": [
        "\n",
        "year = int(input(\"Enter a year: \"))\n",
        "\n",
        "\n",
        "if (year % 4 == 0 and (year % 100 != 0 or year % 400 == 0)):\n",
        "    print(year, \"is a leap year\")\n",
        "else:\n",
        "    print(year, \"is not a leap year\")"
      ],
      "metadata": {
        "colab": {
          "base_uri": "https://localhost:8080/"
        },
        "id": "rV9HSIWDlFRi",
        "outputId": "c1113a8d-5ec7-4e72-d570-781020a0fa25"
      },
      "execution_count": null,
      "outputs": [
        {
          "output_type": "stream",
          "name": "stdout",
          "text": [
            "Enter a year: 2023\n",
            "2023 is not a leap year\n"
          ]
        }
      ]
    },
    {
      "cell_type": "code",
      "source": [
        "num_calls = int(input(\"Enter the number of calls: \"))\n",
        "\n",
        "bill = 200\n",
        "\n",
        "if num_calls > 100:\n",
        "    bill += min(50, num_calls - 100) * 0.60\n",
        "    if num_calls > 150:\n",
        "        bill += min(50, num_calls - 150) * 0.50\n",
        "        if num_calls > 200:\n",
        "            bill += (num_calls - 200) * 0.40\n",
        "print(\"Monthly telephone bill: Rs.\", bill)"
      ],
      "metadata": {
        "colab": {
          "base_uri": "https://localhost:8080/"
        },
        "id": "a2o-A3iPlFI_",
        "outputId": "bc12f527-4b7b-4dff-abff-5f6535271413"
      },
      "execution_count": null,
      "outputs": [
        {
          "output_type": "stream",
          "name": "stdout",
          "text": [
            "Enter the number of calls: 50\n",
            "Monthly telephone bill: Rs. 200\n"
          ]
        }
      ]
    }
  ]
}